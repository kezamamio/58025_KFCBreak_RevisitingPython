{
  "nbformat": 4,
  "nbformat_minor": 0,
  "metadata": {
    "colab": {
      "name": "58025_KFCBreak_RevisitingPython",
      "provenance": [],
      "collapsed_sections": [],
      "include_colab_link": true
    },
    "kernelspec": {
      "name": "python3",
      "display_name": "Python 3"
    }
  },
  "cells": [
    {
      "cell_type": "markdown",
      "metadata": {
        "id": "view-in-github",
        "colab_type": "text"
      },
      "source": [
        "<a href=\"https://colab.research.google.com/github/kezamamio/58025_KFCBreak_RevisitingPython/blob/main/58025_KFCBreak_RevisitingPython.ipynb\" target=\"_parent\"><img src=\"https://colab.research.google.com/assets/colab-badge.svg\" alt=\"Open In Colab\"/></a>"
      ]
    },
    {
      "cell_type": "markdown",
      "metadata": {
        "id": "QnAdk8hy7Bl9"
      },
      "source": [
        "# Welcome to Python Fundamentals\r\n",
        "In this module, we are going to establish or review our skills in Python programming. In this notebook we are going to cover:\r\n",
        "* Variables and Data Types \r\n",
        "* Operations\r\n",
        "* Input and Output Operations\r\n",
        "* Logic Control\r\n",
        "* Iterables\r\n",
        "* Functions"
      ]
    },
    {
      "cell_type": "markdown",
      "metadata": {
        "id": "T6ABRAjTT1Ta"
      },
      "source": [
        "## Variable and Data Types\r\n",
        "\r\n",
        "This section introduces how to define certain variables and classify their data types."
      ]
    },
    {
      "cell_type": "code",
      "metadata": {
        "id": "G8JI3DTZ616F",
        "colab": {
          "base_uri": "https://localhost:8080/"
        },
        "outputId": "f3437039-74f9-427a-c4bc-e3805799e88e"
      },
      "source": [
        "x = 1\r\n",
        "a,b = 0, -1\r\n",
        "print(b, a, x)"
      ],
      "execution_count": null,
      "outputs": [
        {
          "output_type": "stream",
          "text": [
            "-1 0 1\n"
          ],
          "name": "stdout"
        }
      ]
    },
    {
      "cell_type": "markdown",
      "metadata": {
        "id": "juPqTxUAzjQm"
      },
      "source": [
        "The line of codes above represents the basic initialization of variables with an ***int*** data type. To print the values, simply utilize the ***print*** statement with the variable inside the parenthesis."
      ]
    },
    {
      "cell_type": "code",
      "metadata": {
        "id": "QLT9rz2dUJ95",
        "colab": {
          "base_uri": "https://localhost:8080/"
        },
        "outputId": "34622f48-899a-49e3-a637-d4f3606083aa"
      },
      "source": [
        "print(type(x))"
      ],
      "execution_count": null,
      "outputs": [
        {
          "output_type": "stream",
          "text": [
            "<class 'int'>\n"
          ],
          "name": "stdout"
        }
      ]
    },
    {
      "cell_type": "markdown",
      "metadata": {
        "id": "FkMr3ylg2WqU"
      },
      "source": [
        "The line of code above represents how to classify a specific variable's data type. By using the ***print*** statement, it can display the defined variable's data type. Since the previous code snippet defined ***x*** as an integer, the next code snippet can read the defined variable."
      ]
    },
    {
      "cell_type": "code",
      "metadata": {
        "id": "TR_rvX4SUWqx",
        "colab": {
          "base_uri": "https://localhost:8080/"
        },
        "outputId": "bfeb0431-8175-425c-ae2f-98e8c1f3bc28"
      },
      "source": [
        "y = 1.0\r\n",
        "print(y)\r\n",
        "print(type(y))"
      ],
      "execution_count": null,
      "outputs": [
        {
          "output_type": "stream",
          "text": [
            "1.0\n",
            "<class 'float'>\n"
          ],
          "name": "stdout"
        }
      ]
    },
    {
      "cell_type": "markdown",
      "metadata": {
        "id": "_IhvWHlT596c"
      },
      "source": [
        "The line of codes above represents an initialization of a float data type. By using a ***print*** statement, the defined variable and data type are displayed."
      ]
    },
    {
      "cell_type": "code",
      "metadata": {
        "id": "FqV2upOiXcnC",
        "colab": {
          "base_uri": "https://localhost:8080/"
        },
        "outputId": "d9a010b2-e28b-4a05-8b16-2ed40f4fdf6a"
      },
      "source": [
        "x = float(x)\r\n",
        "print(type(x))"
      ],
      "execution_count": null,
      "outputs": [
        {
          "output_type": "stream",
          "text": [
            "<class 'float'>\n"
          ],
          "name": "stdout"
        }
      ]
    },
    {
      "cell_type": "markdown",
      "metadata": {
        "id": "AtCwJMdk7DCY"
      },
      "source": [
        "The line of codes above represents the conversion of a certain data type into another. From the previous code snippets, the declaration of ***x*** was previously defined as an ***int*** data type. By utilizing this syntax, the previous data type is now converted into ***float***."
      ]
    },
    {
      "cell_type": "code",
      "metadata": {
        "id": "2tuyqwmyXiDb",
        "colab": {
          "base_uri": "https://localhost:8080/"
        },
        "outputId": "ec144591-4e8d-4d61-d90d-38b0eb10c70f"
      },
      "source": [
        "s,t,u = \"0\", '1', 'one'\r\n",
        "print(f\"The variable s is defined as {s} and has a data type of {type(s)}.\")\r\n",
        "print(f\"The variable t is defined as {t} and has a data type of {type(t)}.\")\r\n",
        "print(f\"The variable u is defined as {u} and has a data type of {type(u)}.\")"
      ],
      "execution_count": null,
      "outputs": [
        {
          "output_type": "stream",
          "text": [
            "The variable s is defined as 0 and has a data type of <class 'str'>.\n",
            "The variable t is defined as 1 and has a data type of <class 'str'>.\n",
            "The variable u is defined as one and has a data type of <class 'str'>.\n"
          ],
          "name": "stdout"
        }
      ]
    },
    {
      "cell_type": "markdown",
      "metadata": {
        "id": "o2A45e8094PZ"
      },
      "source": [
        "The line of codes above represents the declaration of strings. Strings, referred to as ***str***, is defined by two double quotations. Since the variable's values are enclosed in double quotations, they are read as an ***str*** data type."
      ]
    },
    {
      "cell_type": "code",
      "metadata": {
        "id": "6JwWqHx3XlmB",
        "colab": {
          "base_uri": "https://localhost:8080/"
        },
        "outputId": "669ba233-2ba2-4a53-e4eb-f963ba77190a"
      },
      "source": [
        "s_int = int(s)\r\n",
        "print(f\"{s_int} is converted into {type(s)}.\")"
      ],
      "execution_count": null,
      "outputs": [
        {
          "output_type": "stream",
          "text": [
            "0 is converted into <class 'int'>.\n"
          ],
          "name": "stdout"
        }
      ]
    },
    {
      "cell_type": "markdown",
      "metadata": {
        "id": "hR1KiQSK_Vwm"
      },
      "source": [
        "The line of codes above represents the conversion of an ***str*** data type into an ***int*** data type. If the value inside the string is an integer, it is valid to convert into an ***int***. Otherwise, it will return an error."
      ]
    },
    {
      "cell_type": "markdown",
      "metadata": {
        "id": "9RgPwQR4YVG5"
      },
      "source": [
        "## Operations\r\n",
        "Python operations are utilized to perform procedure on variables and its values. It features a wide variety of operations, similar to any other programming language. Python can execute operations such as **arithmetic**, **assignment**, **comparators**, **logical**, and **input/output** operations. "
      ]
    },
    {
      "cell_type": "markdown",
      "metadata": {
        "id": "mvoS_zuJYbsg"
      },
      "source": [
        "### Arithmetic\r\n",
        "Arithmetic operators are used to perform fundamental mathematical operations between two numeric values."
      ]
    },
    {
      "cell_type": "code",
      "metadata": {
        "id": "DSjUO0KcYoE-"
      },
      "source": [
        "a,b,c,d = 2.0, -0.5, 0, -32"
      ],
      "execution_count": null,
      "outputs": []
    },
    {
      "cell_type": "markdown",
      "metadata": {
        "id": "Yqziy3v2DxWt"
      },
      "source": [
        "Above is the line of code used to initialize the numeric values."
      ]
    },
    {
      "cell_type": "code",
      "metadata": {
        "id": "o_kk0XFzYX9o",
        "colab": {
          "base_uri": "https://localhost:8080/"
        },
        "outputId": "7e72b474-359d-43b7-cb23-eeac1b118534"
      },
      "source": [
        "### Addition1\r\n",
        "S = a+b\r\n",
        "S"
      ],
      "execution_count": null,
      "outputs": [
        {
          "output_type": "execute_result",
          "data": {
            "text/plain": [
              "1.5"
            ]
          },
          "metadata": {
            "tags": []
          },
          "execution_count": 23
        }
      ]
    },
    {
      "cell_type": "code",
      "metadata": {
        "colab": {
          "base_uri": "https://localhost:8080/"
        },
        "id": "klKSsnsaBNta",
        "outputId": "5b603169-396e-4b64-cdbf-7e8bd2086935"
      },
      "source": [
        "### Addition2\r\n",
        "print (a + b)"
      ],
      "execution_count": null,
      "outputs": [
        {
          "output_type": "stream",
          "text": [
            "1.5\n"
          ],
          "name": "stdout"
        }
      ]
    },
    {
      "cell_type": "markdown",
      "metadata": {
        "id": "P78JHezpCr7n"
      },
      "source": [
        "The line of codes above shows how to perform addition operation in Python with two different ways. In **Addition1**, the initialized addends ***float*** values **a**  and **b** are stored in variable **S**. While in **Addition2**, the output operation ***print()*** is utilized to execute the given operation. Moreover, the sum for both codes were still the same. "
      ]
    },
    {
      "cell_type": "code",
      "metadata": {
        "id": "TC5oFq3MY4jk",
        "colab": {
          "base_uri": "https://localhost:8080/"
        },
        "outputId": "7cef09a4-7e15-48da-de1a-b3623db0e5da"
      },
      "source": [
        "### Subtraction1\r\n",
        "D = b-d\r\n",
        "D"
      ],
      "execution_count": null,
      "outputs": [
        {
          "output_type": "execute_result",
          "data": {
            "text/plain": [
              "31.5"
            ]
          },
          "metadata": {
            "tags": []
          },
          "execution_count": 25
        }
      ]
    },
    {
      "cell_type": "code",
      "metadata": {
        "colab": {
          "base_uri": "https://localhost:8080/"
        },
        "id": "4YwPJ9cZGXrW",
        "outputId": "31adc202-52e2-4a75-bc81-bb7b7b718df7"
      },
      "source": [
        "### Subtraction2\r\n",
        "print (b - d)"
      ],
      "execution_count": null,
      "outputs": [
        {
          "output_type": "stream",
          "text": [
            "31.5\n"
          ],
          "name": "stdout"
        }
      ]
    },
    {
      "cell_type": "markdown",
      "metadata": {
        "id": "6XGrgG-PGTPg"
      },
      "source": [
        "The following line of codes above illustrated how to perform subtraction operation in Python. **Subtraction1** stored the ***float***  values **b** (minuend) and **d** (subtrahend) first in variable **D** then execute it. While **Subtraction2** used ***print()*** output operation. Both codes displayed the same result of 31.5.\r\n",
        "\r\n"
      ]
    },
    {
      "cell_type": "code",
      "metadata": {
        "id": "j0bGayj5Y9wr",
        "colab": {
          "base_uri": "https://localhost:8080/"
        },
        "outputId": "499ea958-0e25-4160-9f2c-99c97dcb78f1"
      },
      "source": [
        "### Multiplication1\r\n",
        "P = a*d\r\n",
        "P"
      ],
      "execution_count": null,
      "outputs": [
        {
          "output_type": "execute_result",
          "data": {
            "text/plain": [
              "-64.0"
            ]
          },
          "metadata": {
            "tags": []
          },
          "execution_count": 27
        }
      ]
    },
    {
      "cell_type": "code",
      "metadata": {
        "colab": {
          "base_uri": "https://localhost:8080/"
        },
        "id": "25ZR4Cn4Jr3Y",
        "outputId": "4f86ccd9-8f0a-4604-80bd-afa7fdc461dc"
      },
      "source": [
        "### Multiplication2\r\n",
        "print (a*d)"
      ],
      "execution_count": null,
      "outputs": [
        {
          "output_type": "stream",
          "text": [
            "-64.0\n"
          ],
          "name": "stdout"
        }
      ]
    },
    {
      "cell_type": "markdown",
      "metadata": {
        "id": "6N_yzV_zKtc0"
      },
      "source": [
        "The line of codes above shows how to perform multiplication operation using Python. **Multiplication1** stored the ***float*** values **b** (multiplicand) and **d** (multiplier) first in variable **P** then execute it. While **Multiplication2** used ***print()*** output operation. Nevertheless, both codes displayed the same product."
      ]
    },
    {
      "cell_type": "code",
      "metadata": {
        "id": "FnMWmq5LZLEU",
        "colab": {
          "base_uri": "https://localhost:8080/"
        },
        "outputId": "5f4d1d4f-feb0-4872-95c5-34bf373fd41e"
      },
      "source": [
        "### Division\r\n",
        "Q = c/a\r\n",
        "Q"
      ],
      "execution_count": null,
      "outputs": [
        {
          "output_type": "execute_result",
          "data": {
            "text/plain": [
              "0.0"
            ]
          },
          "metadata": {
            "tags": []
          },
          "execution_count": 29
        }
      ]
    },
    {
      "cell_type": "code",
      "metadata": {
        "colab": {
          "base_uri": "https://localhost:8080/"
        },
        "id": "yL2XYE57N72n",
        "outputId": "13e9cc87-1c98-4392-8b59-0480de5e114f"
      },
      "source": [
        "### Division\r\n",
        "print (c/a)"
      ],
      "execution_count": null,
      "outputs": [
        {
          "output_type": "stream",
          "text": [
            "0.0\n"
          ],
          "name": "stdout"
        }
      ]
    },
    {
      "cell_type": "markdown",
      "metadata": {
        "id": "uHeqTPBgOA2z"
      },
      "source": [
        "Above were the line of codes that illustrates how to perform division operation using Python. **Division1** stored the ***float*** values **c** (dividend) and **a** (divisor) first in variable **Q** then execute it. While **Division2** used ***print()*** output operation. Both codes still displayed the same quotient output."
      ]
    },
    {
      "cell_type": "code",
      "metadata": {
        "id": "cQeVcFIWZd8o",
        "colab": {
          "base_uri": "https://localhost:8080/"
        },
        "outputId": "91d35572-7546-42b3-c8a8-fa5f61ebd9a2"
      },
      "source": [
        "### Floor Division\r\n",
        "Fq = a//d\r\n",
        "Fq"
      ],
      "execution_count": null,
      "outputs": [
        {
          "output_type": "execute_result",
          "data": {
            "text/plain": [
              "-1.0"
            ]
          },
          "metadata": {
            "tags": []
          },
          "execution_count": 32
        }
      ]
    },
    {
      "cell_type": "markdown",
      "metadata": {
        "id": "UbMxbzzkZL5Z"
      },
      "source": [
        "Simply put, floor division **rounds the quotient down to the nearest integer**, thus returning to the floor of the result. The real quotient of the sample code above was -0.0625. Because of floor division, it was rounded down to -1.0. "
      ]
    },
    {
      "cell_type": "code",
      "metadata": {
        "id": "YLaUu6APZSzR",
        "colab": {
          "base_uri": "https://localhost:8080/"
        },
        "outputId": "e29d98a7-fe84-47cb-9c31-68297ee15f8e"
      },
      "source": [
        "### Exponentiation1\r\n",
        "E = a**d\r\n",
        "E"
      ],
      "execution_count": null,
      "outputs": [
        {
          "output_type": "execute_result",
          "data": {
            "text/plain": [
              "2.3283064365386963e-10"
            ]
          },
          "metadata": {
            "tags": []
          },
          "execution_count": 33
        }
      ]
    },
    {
      "cell_type": "code",
      "metadata": {
        "colab": {
          "base_uri": "https://localhost:8080/"
        },
        "id": "ociiKNPxbIwI",
        "outputId": "8af90500-e529-40ca-88b7-2b84f8299399"
      },
      "source": [
        "### Exponentiation2\r\n",
        "print (a**d)"
      ],
      "execution_count": null,
      "outputs": [
        {
          "output_type": "stream",
          "text": [
            "2.3283064365386963e-10\n"
          ],
          "name": "stdout"
        }
      ]
    },
    {
      "cell_type": "markdown",
      "metadata": {
        "id": "CYpYzIY5anCm"
      },
      "source": [
        "Exponentiation operation pertains to performing calculations that uses exponent or power on its operators. It was characterized by the symbol **. Exponentiation1** code above illustrates how to perform this operation by storing the declared values into variable named as **E**. **Exponentiation2** is a much simpler coding style where ***print()*** was utilized."
      ]
    },
    {
      "cell_type": "code",
      "metadata": {
        "id": "uf_0sf4CZ1JT",
        "colab": {
          "base_uri": "https://localhost:8080/"
        },
        "outputId": "f7ca33d3-0261-470e-f170-eeee56561fa0"
      },
      "source": [
        "### Modulo1\r\n",
        "mod = b%d\r\n",
        "mod"
      ],
      "execution_count": null,
      "outputs": [
        {
          "output_type": "execute_result",
          "data": {
            "text/plain": [
              "-0.5"
            ]
          },
          "metadata": {
            "tags": []
          },
          "execution_count": 37
        }
      ]
    },
    {
      "cell_type": "code",
      "metadata": {
        "colab": {
          "base_uri": "https://localhost:8080/"
        },
        "id": "66HXXRPncbOy",
        "outputId": "d3ad4529-5087-4772-ac4f-e542a47842ac"
      },
      "source": [
        "###M Modulo2\r\n",
        "print (b%d)"
      ],
      "execution_count": null,
      "outputs": [
        {
          "output_type": "stream",
          "text": [
            "-0.5\n"
          ],
          "name": "stdout"
        }
      ]
    },
    {
      "cell_type": "markdown",
      "metadata": {
        "id": "fWYfJRxlcAgG"
      },
      "source": [
        "Modulo operator returns the remainder as a result of dividing two values. In the sample code, **Modulo1** utilized variable storage for the operation, while in **Modulo2**, ***print()*** was used. Both have the same resulting output. "
      ]
    },
    {
      "cell_type": "markdown",
      "metadata": {
        "id": "afyWvb1ZaJJ6"
      },
      "source": [
        "### Assignment Operations\r\n",
        "Assignment operators are used to designate or store a value into a variable."
      ]
    },
    {
      "cell_type": "code",
      "metadata": {
        "id": "rMZ8r4WhanaE"
      },
      "source": [
        "G, H, J, K, F, C = 0, 100, 150, 5, 3, 21"
      ],
      "execution_count": null,
      "outputs": []
    },
    {
      "cell_type": "code",
      "metadata": {
        "id": "IX0EbJ8RaMih",
        "colab": {
          "base_uri": "https://localhost:8080/"
        },
        "outputId": "112b30b8-3d10-406f-ebf6-553fa66fd609"
      },
      "source": [
        "G += a\r\n",
        "G"
      ],
      "execution_count": null,
      "outputs": [
        {
          "output_type": "execute_result",
          "data": {
            "text/plain": [
              "2.0"
            ]
          },
          "metadata": {
            "tags": []
          },
          "execution_count": 73
        }
      ]
    },
    {
      "cell_type": "markdown",
      "metadata": {
        "id": "xf4ED61jg2W8"
      },
      "source": [
        "In the line code above, both left and right operands ***G*** and ***a*** respectively were added to each other. The resulting sum was then assigned to left operand G. Simply put, the equivalent expression would be **G = G + a**. "
      ]
    },
    {
      "cell_type": "code",
      "metadata": {
        "id": "aIj4hA-JaRA0",
        "colab": {
          "base_uri": "https://localhost:8080/"
        },
        "outputId": "a810d5e7-cd7f-4618-87b6-8b4ff7a9eedf"
      },
      "source": [
        "H -= c\r\n",
        "H"
      ],
      "execution_count": null,
      "outputs": [
        {
          "output_type": "execute_result",
          "data": {
            "text/plain": [
              "100"
            ]
          },
          "metadata": {
            "tags": []
          },
          "execution_count": 74
        }
      ]
    },
    {
      "cell_type": "markdown",
      "metadata": {
        "id": "8XWz_kilh7Sl"
      },
      "source": [
        "In the line code above, both left and right operands ***H*** and ***c*** respectively were subtracted to each other. The resulting difference was then assigned to left operand ***H***. Simply put, the equivalent expression would be **H = H - c**. The ***c*** in this expression was derived from the value of c stored in the initialized values in the arithmetic operations."
      ]
    },
    {
      "cell_type": "code",
      "metadata": {
        "id": "vuuDbAbNaXgS",
        "colab": {
          "base_uri": "https://localhost:8080/"
        },
        "outputId": "7aeadd6c-3280-471c-eca7-1bc08bd2045a"
      },
      "source": [
        "J *= 2\r\n",
        "J"
      ],
      "execution_count": null,
      "outputs": [
        {
          "output_type": "execute_result",
          "data": {
            "text/plain": [
              "300"
            ]
          },
          "metadata": {
            "tags": []
          },
          "execution_count": 75
        }
      ]
    },
    {
      "cell_type": "markdown",
      "metadata": {
        "id": "vIcZM57piWf6"
      },
      "source": [
        "In the line code above, both left and right operands ***J*** and ***2*** respectively were multiplied to each other. The product was then assigned to left operand ***J***. Simply put, the equivalent expression would be **J  = J * 2**. It was also noted that whenever we run the code, the previous product will be multiplied by 2. By continuous running, the product becomes relatively of a larger value. This case was also similar if we continuously run the assignment operators that uses addition, and subtraction. "
      ]
    },
    {
      "cell_type": "code",
      "metadata": {
        "id": "sGVXGduUaeAj",
        "colab": {
          "base_uri": "https://localhost:8080/"
        },
        "outputId": "fa62bce2-3d30-4f9d-d90a-8f970b0bea02"
      },
      "source": [
        "K **= 2\r\n",
        "K"
      ],
      "execution_count": null,
      "outputs": [
        {
          "output_type": "execute_result",
          "data": {
            "text/plain": [
              "25"
            ]
          },
          "metadata": {
            "tags": []
          },
          "execution_count": 80
        }
      ]
    },
    {
      "cell_type": "markdown",
      "metadata": {
        "id": "GnswI6r8jFUi"
      },
      "source": [
        "In the line code above, both left and right operands ***K*** and ***2*** utilizes exponential operation. The output was then assigned to left operand ***K***. Simply put, the equivalent expression would be **K  = K ** 2**. "
      ]
    },
    {
      "cell_type": "code",
      "metadata": {
        "colab": {
          "base_uri": "https://localhost:8080/"
        },
        "id": "rZR9OW5VfwE8",
        "outputId": "9ba7f440-7d26-43ad-9f72-3aec46992acd"
      },
      "source": [
        "F %= 3\r\n",
        "F"
      ],
      "execution_count": null,
      "outputs": [
        {
          "output_type": "execute_result",
          "data": {
            "text/plain": [
              "0"
            ]
          },
          "metadata": {
            "tags": []
          },
          "execution_count": 77
        }
      ]
    },
    {
      "cell_type": "markdown",
      "metadata": {
        "id": "WbpdEmRXjlo-"
      },
      "source": [
        "In the line code above, both left and right operands ***F*** and ***3*** used modulo operation. The output was then assigned to left operand ***F***. The equivalent expression would be **F  = F & 3** or **F = 5 % 3**. "
      ]
    },
    {
      "cell_type": "code",
      "metadata": {
        "colab": {
          "base_uri": "https://localhost:8080/"
        },
        "id": "eLJubwjbgVF8",
        "outputId": "b5adf6cd-ca9e-4381-a90c-18cf5f5a844e"
      },
      "source": [
        "C /= 3\r\n",
        "C"
      ],
      "execution_count": null,
      "outputs": [
        {
          "output_type": "execute_result",
          "data": {
            "text/plain": [
              "7.0"
            ]
          },
          "metadata": {
            "tags": []
          },
          "execution_count": 78
        }
      ]
    },
    {
      "cell_type": "markdown",
      "metadata": {
        "id": "eciPCMtHkav5"
      },
      "source": [
        "In the line code above, both left and right operands ***C*** and ***3*** used division operation. The quotient was then assigned to left operand ***C***. The equivalent expression would be **C  = C / 3** or **C = 21 / 3**. "
      ]
    },
    {
      "cell_type": "markdown",
      "metadata": {
        "id": "UGXuqhVNbW7R"
      },
      "source": [
        "### Comparators\r\n",
        "Comparison operators also called as comparators are used to compare two given values based on their magnitude of equality."
      ]
    },
    {
      "cell_type": "code",
      "metadata": {
        "id": "Oj9xLaEaYeuY"
      },
      "source": [
        "res_1, res_2, res_3 = 1, 2.0, 0.5\r\n",
        "true_val = 1.0"
      ],
      "execution_count": null,
      "outputs": []
    },
    {
      "cell_type": "markdown",
      "metadata": {
        "id": "6w7RwIaKkvH7"
      },
      "source": [
        "Above is the line of code used to initialize the values for each variables."
      ]
    },
    {
      "cell_type": "code",
      "metadata": {
        "id": "GEXm6RSsbA8Q",
        "colab": {
          "base_uri": "https://localhost:8080/"
        },
        "outputId": "668a7a9a-d850-435e-d8ee-372774d9469c"
      },
      "source": [
        "## Equality\r\n",
        "res_1 == true_val"
      ],
      "execution_count": null,
      "outputs": [
        {
          "output_type": "execute_result",
          "data": {
            "text/plain": [
              "True"
            ]
          },
          "metadata": {
            "tags": []
          },
          "execution_count": 93
        }
      ]
    },
    {
      "cell_type": "markdown",
      "metadata": {
        "id": "c226Iv_2k1HE"
      },
      "source": [
        "In the code above, **res_1** has a value of **1** while **true_value** variable has also a value of **1**. Therefore, the two operands are equal and the resulting output is **True**. "
      ]
    },
    {
      "cell_type": "code",
      "metadata": {
        "id": "SdHk_b58bZhD",
        "colab": {
          "base_uri": "https://localhost:8080/"
        },
        "outputId": "5cb8b77a-02e1-462f-ee44-2641b0078ed9"
      },
      "source": [
        "## Non-equality\r\n",
        "res_2 != true_val"
      ],
      "execution_count": null,
      "outputs": [
        {
          "output_type": "execute_result",
          "data": {
            "text/plain": [
              "True"
            ]
          },
          "metadata": {
            "tags": []
          },
          "execution_count": 89
        }
      ]
    },
    {
      "cell_type": "markdown",
      "metadata": {
        "id": "WmbBmMplnEpj"
      },
      "source": [
        "In the code above, **res_2** has a ***float*** value of **2.0** while **true_value** variable has a value of **1**. These two operands are not equal therefore the resulting output will be **True**. "
      ]
    },
    {
      "cell_type": "code",
      "metadata": {
        "colab": {
          "base_uri": "https://localhost:8080/"
        },
        "id": "Tw6G1bknmKQz",
        "outputId": "dde7956e-ef6d-40a0-d0a7-b2e12c2f0376"
      },
      "source": [
        "## Greater than or equal\r\n",
        "res_1 >= res_2"
      ],
      "execution_count": null,
      "outputs": [
        {
          "output_type": "execute_result",
          "data": {
            "text/plain": [
              "False"
            ]
          },
          "metadata": {
            "tags": []
          },
          "execution_count": 90
        }
      ]
    },
    {
      "cell_type": "markdown",
      "metadata": {
        "id": "_9G0xaX3nh8b"
      },
      "source": [
        "**res_2** and **res_1** are evidently not equal to one another and that **res_1** is not also greater than **res_2**. Therefore, the output would be **False**."
      ]
    },
    {
      "cell_type": "code",
      "metadata": {
        "colab": {
          "base_uri": "https://localhost:8080/"
        },
        "id": "zIVbikXnmLrJ",
        "outputId": "1c2f2664-2d4c-4142-fc52-a282ef24b5aa"
      },
      "source": [
        "### Less than or equal\r\n",
        "res_2 <= res_3"
      ],
      "execution_count": null,
      "outputs": [
        {
          "output_type": "execute_result",
          "data": {
            "text/plain": [
              "False"
            ]
          },
          "metadata": {
            "tags": []
          },
          "execution_count": 95
        }
      ]
    },
    {
      "cell_type": "markdown",
      "metadata": {
        "id": "ooAdB0EKnizJ"
      },
      "source": [
        "**res_2** and **res_3** are not equal to one another and that **res_2** that has a value of 2.0 is not less than **res_3**'s value of 0.5. Therefore, the output would be **False**."
      ]
    },
    {
      "cell_type": "code",
      "metadata": {
        "id": "EnA4q50JbQB5",
        "colab": {
          "base_uri": "https://localhost:8080/"
        },
        "outputId": "d1481a7c-59e3-49d7-9bd1-ea71fa9526b7"
      },
      "source": [
        "## Inequality\r\n",
        "t1 = res_1 > res_2\r\n",
        "t2 = res_1 < res_2/2\r\n",
        "t3 = res_1 >= res_2/2\r\n",
        "t4 = res_1 <= res_2  \r\n",
        "t1"
      ],
      "execution_count": null,
      "outputs": [
        {
          "output_type": "execute_result",
          "data": {
            "text/plain": [
              "False"
            ]
          },
          "metadata": {
            "tags": []
          },
          "execution_count": 92
        }
      ]
    },
    {
      "cell_type": "markdown",
      "metadata": {
        "id": "vMih6y5rnjT5"
      },
      "source": [
        "The code above illustrates inequality operation. The series of codes will evaluate conditions applied between **res_1** and **res_2**. "
      ]
    },
    {
      "cell_type": "markdown",
      "metadata": {
        "id": "9WkfdvbfcC1Y"
      },
      "source": [
        "### Logical\r\n",
        "Logical operators are mainly used for synthesizing conditional statements.\r\n"
      ]
    },
    {
      "cell_type": "code",
      "metadata": {
        "colab": {
          "base_uri": "https://localhost:8080/"
        },
        "id": "FqBMTH34zGJG",
        "outputId": "10068776-6ccc-4d75-9b41-b53829ec1b87"
      },
      "source": [
        "u = 15\r\n",
        "u > 3 and u < 10"
      ],
      "execution_count": null,
      "outputs": [
        {
          "output_type": "execute_result",
          "data": {
            "text/plain": [
              "False"
            ]
          },
          "metadata": {
            "tags": []
          },
          "execution_count": 136
        }
      ]
    },
    {
      "cell_type": "markdown",
      "metadata": {
        "id": "XLhYgncd1O4H"
      },
      "source": [
        "The code above returned an output display of ***False*** because 15 is greater than 3 (True) but 15 is not less than 10 (False). Statements that are evaluated using **and** operators should return **True** if both statements or conditions are true. "
      ]
    },
    {
      "cell_type": "code",
      "metadata": {
        "id": "3GU72N-Gcslz",
        "colab": {
          "base_uri": "https://localhost:8080/"
        },
        "outputId": "37192d3c-693b-4764-e5fd-6d83dc1ae0b0"
      },
      "source": [
        "p, q = True, False\r\n",
        "conj = p and q\r\n",
        "conj"
      ],
      "execution_count": null,
      "outputs": [
        {
          "output_type": "execute_result",
          "data": {
            "text/plain": [
              "False"
            ]
          },
          "metadata": {
            "tags": []
          },
          "execution_count": 141
        }
      ]
    },
    {
      "cell_type": "code",
      "metadata": {
        "colab": {
          "base_uri": "https://localhost:8080/"
        },
        "id": "4xltmdFp0cpL",
        "outputId": "e053d5c1-de22-4538-fb00-618ed4a797c6"
      },
      "source": [
        "f = 5\r\n",
        "f <= 5 or f < 4"
      ],
      "execution_count": null,
      "outputs": [
        {
          "output_type": "execute_result",
          "data": {
            "text/plain": [
              "True"
            ]
          },
          "metadata": {
            "tags": []
          },
          "execution_count": 138
        }
      ]
    },
    {
      "cell_type": "markdown",
      "metadata": {
        "id": "knHg8K681UNz"
      },
      "source": [
        "The code above returned an output display of ***True*** even if 5 is not less than 4 (False). Statements that are evaluated using **or** operators should return **True** if one of the statements or conditions are true. In this case, the first statement was satisfied. "
      ]
    },
    {
      "cell_type": "code",
      "metadata": {
        "id": "ihMxcT6KcvQj"
      },
      "source": [
        "p, q = True, False\r\n",
        "disj = p or q\r\n",
        "disj"
      ],
      "execution_count": null,
      "outputs": []
    },
    {
      "cell_type": "code",
      "metadata": {
        "id": "cYVG6YeNb-Gz",
        "colab": {
          "base_uri": "https://localhost:8080/"
        },
        "outputId": "0dd4805b-6de8-406f-b690-0ab02d0866cd"
      },
      "source": [
        "res_1 == true_val"
      ],
      "execution_count": null,
      "outputs": [
        {
          "output_type": "execute_result",
          "data": {
            "text/plain": [
              "True"
            ]
          },
          "metadata": {
            "tags": []
          },
          "execution_count": 132
        }
      ]
    },
    {
      "cell_type": "markdown",
      "metadata": {
        "id": "uYIfwbqW1Uo9"
      },
      "source": [
        "**res_1** that has a value of 1 wass indeed equal to variable **true_val**'s value. Thus, output displayed was **True**."
      ]
    },
    {
      "cell_type": "code",
      "metadata": {
        "id": "rLe6hpkHcN-z",
        "colab": {
          "base_uri": "https://localhost:8080/"
        },
        "outputId": "efbea2aa-9da3-4091-b402-528f826c496b"
      },
      "source": [
        "res_1 is true_val"
      ],
      "execution_count": null,
      "outputs": [
        {
          "output_type": "execute_result",
          "data": {
            "text/plain": [
              "False"
            ]
          },
          "metadata": {
            "tags": []
          },
          "execution_count": 133
        }
      ]
    },
    {
      "cell_type": "markdown",
      "metadata": {
        "id": "ECMg7EM71VGZ"
      },
      "source": [
        "But, **res_1** will never not be **true_val** even if they have the same value. This line of code uses the **is** logical operator. It will only return an output of **True** if the variables on either side of the operator describes the same variable (***true_val is true_val***). Otherwise, it is considered **False**."
      ]
    },
    {
      "cell_type": "code",
      "metadata": {
        "id": "tr5qxHQmcO-C",
        "colab": {
          "base_uri": "https://localhost:8080/"
        },
        "outputId": "1064914c-e453-4eb8-c706-50d81a49e56f"
      },
      "source": [
        "res_1 is not true_val"
      ],
      "execution_count": null,
      "outputs": [
        {
          "output_type": "execute_result",
          "data": {
            "text/plain": [
              "True"
            ]
          },
          "metadata": {
            "tags": []
          },
          "execution_count": 140
        }
      ]
    },
    {
      "cell_type": "markdown",
      "metadata": {
        "id": "cM7k2AtX1Vw1"
      },
      "source": [
        "Contrary to **is** operator, **is not** returns display **True** if the variables on either side are not pertaining to the **same** object. Otherwise, the output will be **False**."
      ]
    },
    {
      "cell_type": "code",
      "metadata": {
        "id": "T-QfmeYgcyGQ",
        "colab": {
          "base_uri": "https://localhost:8080/"
        },
        "outputId": "37ca1d04-ee4d-441b-af53-e77e1969a751"
      },
      "source": [
        "p, q = True, False\r\n",
        "nand = not(p and q)\r\n",
        "nand"
      ],
      "execution_count": null,
      "outputs": [
        {
          "output_type": "execute_result",
          "data": {
            "text/plain": [
              "True"
            ]
          },
          "metadata": {
            "tags": []
          },
          "execution_count": 142
        }
      ]
    },
    {
      "cell_type": "markdown",
      "metadata": {
        "id": "l3ihjv6t1XL_"
      },
      "source": [
        "The line of code above describes a statement for NAND expression. It is a combination of NOT and AND operators. Upon running, the code will first evaluate the expression inside the parenthesis based on operator precedence. Since it uses an AND operator, it will return **False**. After which, NOT False is evaluated. Therefore, the output is **True**.  "
      ]
    },
    {
      "cell_type": "code",
      "metadata": {
        "id": "2HL7SlVbc10k",
        "colab": {
          "base_uri": "https://localhost:8080/"
        },
        "outputId": "859675e7-0750-4a13-fea9-6aa0baa1b834"
      },
      "source": [
        "p, q = True, False\r\n",
        "xor = (not p and q) or (p and not q)\r\n",
        "xor"
      ],
      "execution_count": null,
      "outputs": [
        {
          "output_type": "execute_result",
          "data": {
            "text/plain": [
              "True"
            ]
          },
          "metadata": {
            "tags": []
          },
          "execution_count": 143
        }
      ]
    },
    {
      "cell_type": "markdown",
      "metadata": {
        "id": "VBhGhLsE1Xuv"
      },
      "source": [
        "The line of code above describes a statement for an XOR expression. Upon running, the code will first evaluate the expression inside the parentheses based on operator precedence. First expression will result to **False** while second parenthesis is evaluated with a result of **True**. Since it uses an OR operator, the final output will thereby return **True**. "
      ]
    },
    {
      "cell_type": "markdown",
      "metadata": {
        "id": "AQx4DKafYffJ"
      },
      "source": [
        "### I/O\r\n",
        "Input operators allows users to enter data. Whereas, output operator such as ***print()*** is used to display results processed by the Python program. "
      ]
    },
    {
      "cell_type": "code",
      "metadata": {
        "id": "Q-DVERG5Yk9w",
        "colab": {
          "base_uri": "https://localhost:8080/"
        },
        "outputId": "14720455-2f41-499c-fe06-14308c30aa7a"
      },
      "source": [
        "print(\"Hello World\")"
      ],
      "execution_count": null,
      "outputs": [
        {
          "output_type": "stream",
          "text": [
            "Hello World\n"
          ],
          "name": "stdout"
        }
      ]
    },
    {
      "cell_type": "markdown",
      "metadata": {
        "id": "4wpTGpCWqGyo"
      },
      "source": [
        "The code above will display the output **Hello World** because of the output operation ***print()***."
      ]
    },
    {
      "cell_type": "code",
      "metadata": {
        "id": "fS5wN51beSVF"
      },
      "source": [
        "cnt = 1"
      ],
      "execution_count": null,
      "outputs": []
    },
    {
      "cell_type": "code",
      "metadata": {
        "id": "hKNaUXmdZdUo",
        "colab": {
          "base_uri": "https://localhost:8080/"
        },
        "outputId": "f1e76d64-b623-4e11-ecc2-3721d5e819ea"
      },
      "source": [
        "string = \"Hello World\"\r\n",
        "print(string, \", Current run count is:\", cnt)\r\n",
        "cnt += 1"
      ],
      "execution_count": null,
      "outputs": [
        {
          "output_type": "stream",
          "text": [
            "Hello World , Current run count is: 3\n"
          ],
          "name": "stdout"
        }
      ]
    },
    {
      "cell_type": "markdown",
      "metadata": {
        "id": "rovRfjKEqoZL"
      },
      "source": [
        "The main goal of the code above was to display a string output and the current run count (or how many times the code has been ran). The variable **string** stored **Hello World** with a ***str*** data type. More so, **cnt** variable was also initialized with a value of 1. To determine the current count, assignment operation of addition was used. "
      ]
    },
    {
      "cell_type": "code",
      "metadata": {
        "id": "15_WdzEZcOVX",
        "colab": {
          "base_uri": "https://localhost:8080/"
        },
        "outputId": "2e0e329d-0c01-40da-f72a-05eed3d5f6be"
      },
      "source": [
        "print(f\"{string}, Current run count is: {cnt}\")"
      ],
      "execution_count": null,
      "outputs": [
        {
          "output_type": "stream",
          "text": [
            "Hello World, Current run count is: 4\n"
          ],
          "name": "stdout"
        }
      ]
    },
    {
      "cell_type": "markdown",
      "metadata": {
        "id": "MZhvG6iisnFW"
      },
      "source": [
        "The code above has the same output display from the previous code but this time, ***f string*** was used. This is another way to format a string syntax. "
      ]
    },
    {
      "cell_type": "code",
      "metadata": {
        "id": "5m9XtFOPcOXo",
        "colab": {
          "base_uri": "https://localhost:8080/"
        },
        "outputId": "5ab97e1f-c029-486f-b05e-30ff6882ea39"
      },
      "source": [
        "sem_grade = 82.243564657461234\r\n",
        "name = \"\"\r\n",
        "print(\"Hello {}, your semestral grade is: {}\".format(name, sem_grade))"
      ],
      "execution_count": null,
      "outputs": [
        {
          "output_type": "stream",
          "text": [
            "Hello , your semestral grade is: 82.24356465746123\n"
          ],
          "name": "stdout"
        }
      ]
    },
    {
      "cell_type": "markdown",
      "metadata": {
        "id": "UZQkhUwqtSST"
      },
      "source": [
        "Above is a line code that should display a semestral grade. Similar to previous codes, variable **sem_grade** was first initialized with a float dtata type value then displayed it using ***print()*** statement. Along with it is a ***format ***code to specify which values should be displayed first. "
      ]
    },
    {
      "cell_type": "code",
      "metadata": {
        "id": "SMJx6bTnfdgZ",
        "colab": {
          "base_uri": "https://localhost:8080/"
        },
        "outputId": "e1400824-ad0e-4722-f40a-f1f12550b943"
      },
      "source": [
        "w_pg, w_mg, w_fg = 0.3, 0.3, 0.4\r\n",
        "print(\"The weights of your semestral grades are:\\\r\n",
        "\\n\\t{:.2%} for Prelims\\\r\n",
        "\\n\\t{:.2%} for Midterms, and\\\r\n",
        "\\n\\t{:.2%} for Finals.\".format(w_pg, w_mg, w_fg))"
      ],
      "execution_count": null,
      "outputs": [
        {
          "output_type": "stream",
          "text": [
            "The weights of your semestral grades are:\n",
            "\t30.00% for Prelims\n",
            "\t30.00% for Midterms, and\n",
            "\t40.00% for Finals.\n"
          ],
          "name": "stdout"
        }
      ]
    },
    {
      "cell_type": "markdown",
      "metadata": {
        "id": "j0oRoTwxuEhS"
      },
      "source": [
        "Above is a line code that displays the percentage weight of each periodic terms to accumulate the semestral grade. Similar to previous codes, ***format*** code was also used to specify which values should be displayed first. Also, prelim, midterm, and final grades values were initialized and stored through its corresponding variables. To display the output, ***print()*** is used. "
      ]
    },
    {
      "cell_type": "code",
      "metadata": {
        "id": "Ob2I_zR3jAcZ",
        "colab": {
          "base_uri": "https://localhost:8080/",
          "height": 52
        },
        "outputId": "a4fb5c6c-2fd6-4101-e92b-132531977385"
      },
      "source": [
        "x = input(\"enter a number: \")\r\n",
        "x"
      ],
      "execution_count": null,
      "outputs": [
        {
          "output_type": "stream",
          "text": [
            "enter a number: 1\n"
          ],
          "name": "stdout"
        },
        {
          "output_type": "execute_result",
          "data": {
            "application/vnd.google.colaboratory.intrinsic+json": {
              "type": "string"
            },
            "text/plain": [
              "'1'"
            ]
          },
          "metadata": {
            "tags": []
          },
          "execution_count": 115
        }
      ]
    },
    {
      "cell_type": "markdown",
      "metadata": {
        "id": "5TSJooJFuFaq"
      },
      "source": [
        "In the code above, the program prompts the user to enter a number. After which, the number inputted was displayed. This was mainly because of the ***input()*** statement utilized in the code. "
      ]
    },
    {
      "cell_type": "code",
      "metadata": {
        "id": "T7ODFfcMh9Pg",
        "colab": {
          "base_uri": "https://localhost:8080/"
        },
        "outputId": "fb1de520-0dd8-4cf9-d2ac-6f8935d6dfc0"
      },
      "source": [
        "name = input(\"Enter your name bhie: \")\r\n",
        "pg = input(\"Enter prelim grade: \")\r\n",
        "mg = input(\"Enter midterm grade: \")\r\n",
        "fg = input(\"Enter finals grade: \")\r\n",
        "sem_grade = None\r\n",
        "print(\"Hello {}, your semestral grade is: {}\".format(name, sem_grade))"
      ],
      "execution_count": null,
      "outputs": [
        {
          "output_type": "stream",
          "text": [
            "Enter your name bhie: Keziah\n",
            "Enter prelim grade: 90\n",
            "Enter midterm grade: 89\n",
            "Enter finals grade: 75\n",
            "Hello Keziah, your semestral grade is: None\n"
          ],
          "name": "stdout"
        }
      ]
    },
    {
      "cell_type": "markdown",
      "metadata": {
        "id": "j2ipUMjzuFwS"
      },
      "source": [
        "The code above is a more complex one compared to previous codes. Basically, the user was prompted to enter data such as name, prelim, midterm, and finals grade. After which, it will display the semestral grade which is equal to none since no formula was declared to compute for the ***sem_grade***. "
      ]
    },
    {
      "cell_type": "markdown",
      "metadata": {
        "id": "i0g3EothhvqL"
      },
      "source": [
        "# Looping Statements"
      ]
    },
    {
      "cell_type": "markdown",
      "metadata": {
        "id": "j4w90VAIjcFJ"
      },
      "source": [
        "## While"
      ]
    },
    {
      "cell_type": "code",
      "metadata": {
        "id": "4vtSrBPThlse",
        "colab": {
          "base_uri": "https://localhost:8080/"
        },
        "outputId": "869e8d87-6988-4d3b-d6d4-068faa71cd9e"
      },
      "source": [
        "## while loops\r\n",
        "i, j = 0, 10\r\n",
        "while(i<=j):\r\n",
        "    print(f\"{i}\\t|\\t{j}\")\r\n",
        "    i+=1"
      ],
      "execution_count": null,
      "outputs": [
        {
          "output_type": "stream",
          "text": [
            "0\t|\t10\n",
            "1\t|\t10\n",
            "2\t|\t10\n",
            "3\t|\t10\n",
            "4\t|\t10\n",
            "5\t|\t10\n",
            "6\t|\t10\n",
            "7\t|\t10\n",
            "8\t|\t10\n",
            "9\t|\t10\n",
            "10\t|\t10\n"
          ],
          "name": "stdout"
        }
      ]
    },
    {
      "cell_type": "markdown",
      "metadata": {
        "id": "XAfDWakrUz3K"
      },
      "source": [
        "The code above uses while loop to increment the value of **i** by 1 until it is equivalent to the value of **j**. Since the initial value of **i** is zero the loop was executed 11 times for **i** to become 10."
      ]
    },
    {
      "cell_type": "markdown",
      "metadata": {
        "id": "Qz6AH6jRjfUg"
      },
      "source": [
        "## For"
      ]
    },
    {
      "cell_type": "code",
      "metadata": {
        "id": "q0DUwfRkjZY7",
        "colab": {
          "base_uri": "https://localhost:8080/"
        },
        "outputId": "eae60b70-b121-42a8-bec2-125c55d28cab"
      },
      "source": [
        "# for(int i=0; i<10; i++){\r\n",
        "# printf(i)\r\n",
        "# }\r\n",
        "\r\n",
        "i=0\r\n",
        "for i in range(10):\r\n",
        "    print(i)"
      ],
      "execution_count": null,
      "outputs": [
        {
          "output_type": "stream",
          "text": [
            "0\n",
            "1\n",
            "2\n",
            "3\n",
            "4\n",
            "5\n",
            "6\n",
            "7\n",
            "8\n",
            "9\n"
          ],
          "name": "stdout"
        }
      ]
    },
    {
      "cell_type": "markdown",
      "metadata": {
        "id": "NFnUjQxgWxe8"
      },
      "source": [
        "The code above uses *for* loop to increment the value of **i** until the values of **i** was equivalent to the range. Since the initial value of **i** is 0 the loop increment the value of **i** for the number of times is in *range()*"
      ]
    },
    {
      "cell_type": "code",
      "metadata": {
        "id": "zaM--lUhjiUg",
        "colab": {
          "base_uri": "https://localhost:8080/"
        },
        "outputId": "32178a6c-fbfd-458b-969d-3c7e4d335240"
      },
      "source": [
        "playlist = ['Blessing Chord', 'ZEAL of proud']\r\n",
        "print('Now Playing:\\n')\r\n",
        "for song in playlist:\r\n",
        "    print(song)"
      ],
      "execution_count": null,
      "outputs": [
        {
          "output_type": "stream",
          "text": [
            "Now Playing:\n",
            "\n",
            "Blessing Chord\n",
            "ZEAL of proud\n"
          ],
          "name": "stdout"
        }
      ]
    },
    {
      "cell_type": "markdown",
      "metadata": {
        "id": "wMn-D8RbYT_w"
      },
      "source": [
        "The code above uses for loop to print all values inside **playlist**. The loop automatically terminates once there are no values present inside **playlist**."
      ]
    },
    {
      "cell_type": "markdown",
      "metadata": {
        "id": "N6jTqTZojnSg"
      },
      "source": [
        "# Flow Control"
      ]
    },
    {
      "cell_type": "markdown",
      "metadata": {
        "id": "uhnsV2CijrWQ"
      },
      "source": [
        "## Condition Statements"
      ]
    },
    {
      "cell_type": "code",
      "metadata": {
        "id": "seJplrJojmTg",
        "colab": {
          "base_uri": "https://localhost:8080/"
        },
        "outputId": "c12d5ec0-6b87-4ab1-bbcc-9161f354ad89"
      },
      "source": [
        "numeral1, numeral2 = 12, 12\r\n",
        "if(numeral1 == numeral2):\r\n",
        "    print(\"Yey\")\r\n",
        "elif(numeral1>numeral2):\r\n",
        "    print(\"Hoho\")\r\n",
        "else:\r\n",
        "    print(\"Aww\")\r\n",
        "print(\"Hip hip\")"
      ],
      "execution_count": null,
      "outputs": [
        {
          "output_type": "stream",
          "text": [
            "Yey\n",
            "Hip hip\n"
          ],
          "name": "stdout"
        }
      ]
    },
    {
      "cell_type": "markdown",
      "metadata": {
        "id": "dGxBxNgPZZZ2"
      },
      "source": [
        "The code above have 2 variables **numeral1** and **numeral2**. The code checks if their values are equal, if **numeral1** is greater than **numeral2**, or if does not fit the the other conditions. If both values are equal it satisfies the first condition and will print \"Yey\", if the not it will check the second condition and will print \"Hoho\" if it satisfy the condition, and will print \"Aww\" if neither of the conditions are satisfied."
      ]
    },
    {
      "cell_type": "markdown",
      "metadata": {
        "id": "tlnG1OKilNLo"
      },
      "source": [
        "# Functions\r\n",
        "This section utilizes the use of a function. A function is a block of code that will only run when called upon.In Python, you can create a function by using the keyword ***def***. The data inside it are referred to as ***parameters***, while the information that can be passed into functions are called as ***arguments***.\r\n"
      ]
    },
    {
      "cell_type": "code",
      "metadata": {
        "id": "1iMUEipnlUKY",
        "colab": {
          "base_uri": "https://localhost:8080/"
        },
        "outputId": "0e980559-d242-4f22-a277-79801c2e9494"
      },
      "source": [
        "# void DeleteUser(int userid){\r\n",
        "#     delete(userid);\r\n",
        "# }\r\n",
        "\r\n",
        "def delete_user (userid):\r\n",
        "    print(\"Successfully deleted user: {}\".format(userid))\r\n",
        "    \r\n",
        "def delete_all_users ():\r\n",
        "    print(\"Successfully deleted all users.\")\r\n",
        "\r\n",
        "delete_all_users()"
      ],
      "execution_count": null,
      "outputs": [
        {
          "output_type": "stream",
          "text": [
            "Successfully deleted all users.\n"
          ],
          "name": "stdout"
        }
      ]
    },
    {
      "cell_type": "markdown",
      "metadata": {
        "id": "hKBaAp9gGlNA"
      },
      "source": [
        "The above code had two functions: ***delete_user()*** and ***delete_all_users()***. Notice that while both had the statements to execute printing, the statement for the ***delete_all_users()*** is the only one outputted because it is called upon while the other is not."
      ]
    },
    {
      "cell_type": "code",
      "metadata": {
        "id": "v_TkrftylUEA",
        "colab": {
          "base_uri": "https://localhost:8080/"
        },
        "outputId": "6579cdb6-4b71-4b32-db1b-9e60a2ba6d59"
      },
      "source": [
        "userid = 0\r\n",
        "\r\n",
        "delete_user(0)\r\n",
        "delete_all_users()\r\n"
      ],
      "execution_count": null,
      "outputs": [
        {
          "output_type": "stream",
          "text": [
            "Successfully deleted user: 201812893\n",
            "Successfully deleted all users.\n"
          ],
          "name": "stdout"
        }
      ]
    },
    {
      "cell_type": "markdown",
      "metadata": {
        "id": "8Cbv9mK9ICn-"
      },
      "source": [
        "In this block of code, the statements inside  both ***delete_user()*** and ***delete_all_users()*** are ouputted because both functions are called upon. Otherwise, there would be no statement that will be appear."
      ]
    },
    {
      "cell_type": "code",
      "metadata": {
        "id": "M0ffjw31lT8Y",
        "colab": {
          "base_uri": "https://localhost:8080/"
        },
        "outputId": "9a111683-5b13-440a-fbe8-985b52ea943b"
      },
      "source": [
        "def add(addend1, addend2):\r\n",
        "    print('The sum of', addend1, 'and', addend2, 'is :')\r\n",
        "    return addend1 + addend2\r\n",
        "\r\n",
        "def power_of_base2(exponent):\r\n",
        "    print('Two to the power or', exponent, 'is :')\r\n",
        "    return 2**exponent\r\n",
        "\r\n",
        "add(2,3)"
      ],
      "execution_count": null,
      "outputs": [
        {
          "output_type": "stream",
          "text": [
            "The sum of 2 and 3 is :\n"
          ],
          "name": "stdout"
        },
        {
          "output_type": "execute_result",
          "data": {
            "text/plain": [
              "5"
            ]
          },
          "metadata": {
            "tags": []
          },
          "execution_count": 51
        }
      ]
    },
    {
      "cell_type": "markdown",
      "metadata": {
        "id": "nIfTn5fEK-uG"
      },
      "source": [
        "Observing from the above code, a function is not only limited to passing printed stataments but also, pass printed statements and return an equation by taking arguments. ***Arguments*** can be put inside the parenthesis beside the function name. Multiple arguments are allowed, provided that a comma separates them.\r\n"
      ]
    },
    {
      "cell_type": "markdown",
      "metadata": {
        "id": "2_tDT01oFEGQ"
      },
      "source": [
        "### Lambda Functions\r\n",
        "A lambda function is a small anonymous function. It is useful especially when one requires a nameless function for a short period of time. This type of function can have multiplt arguments but only one expression. It has a syntax of **lambda *arguments* : expression**."
      ]
    },
    {
      "cell_type": "code",
      "metadata": {
        "id": "tmmBNW9pFg-4"
      },
      "source": [
        "x = 4"
      ],
      "execution_count": null,
      "outputs": []
    },
    {
      "cell_type": "code",
      "metadata": {
        "id": "_9KYzCrIFCpI",
        "colab": {
          "base_uri": "https://localhost:8080/"
        },
        "outputId": "1089e4a0-722b-437b-995f-229a86cfb738"
      },
      "source": [
        "def f(x):\r\n",
        "  return 2*(x*x)-1\r\n",
        "  f(x)"
      ],
      "execution_count": null,
      "outputs": [
        {
          "output_type": "execute_result",
          "data": {
            "text/plain": [
              "31"
            ]
          },
          "metadata": {
            "tags": []
          },
          "execution_count": 83
        }
      ]
    },
    {
      "cell_type": "markdown",
      "metadata": {
        "id": "4XZEwODXQpFE"
      },
      "source": [
        "This block uses a standard function - with the **function f(x)** calls whatever the value of x is, and applies it to the parameters inside - in this case, the value of x is already determined as 4. Hence, when f(x) is invoked, it takes out the value of x, processes the return statement, and prints out an answer."
      ]
    },
    {
      "cell_type": "code",
      "metadata": {
        "id": "a2uwKwqFFafn",
        "colab": {
          "base_uri": "https://localhost:8080/"
        },
        "outputId": "172c5388-87b0-4484-99a1-25003329c60c"
      },
      "source": [
        "g = lambda x: 2*(x*x)-1\r\n",
        "print(g(x))"
      ],
      "execution_count": null,
      "outputs": [
        {
          "output_type": "stream",
          "text": [
            "31\n"
          ],
          "name": "stdout"
        }
      ]
    },
    {
      "cell_type": "markdown",
      "metadata": {
        "id": "yZN0KCNkSI78"
      },
      "source": [
        "This block of code is similar to the above standard function but with the difference of having used a lambda function. The function here is **g** while **x** is the argument, and **2*(x*x)-1** is the expression. Compared to the standard function, the way of the writing of the code had been relatively shorter."
      ]
    },
    {
      "cell_type": "markdown",
      "metadata": {
        "id": "e8oL8fkJnulo"
      },
      "source": [
        "# Semestral Grade Calculator\r\n",
        "\r\n",
        "This section introduces the group's code implementation of a grade calculator that will accept the user's name, program, and course and compute their semestral grade based on their term grades."
      ]
    },
    {
      "cell_type": "code",
      "metadata": {
        "colab": {
          "base_uri": "https://localhost:8080/"
        },
        "id": "F4XEbsJji3bI",
        "outputId": "2ceb53cc-9ea8-426a-996a-d97f3ecbe077"
      },
      "source": [
        "# -*- coding: utf-8 -*-\r\n",
        "\"\"\"\r\n",
        "Created on Thu Feb 11 07:19:59 2021\r\n",
        "\r\n",
        "@author: KFC Break\r\n",
        "Semestral Grade Calculator\r\n",
        "\"\"\"\r\n",
        "\r\n",
        "happy, lol, sad = \"\\U0001F600\",\"\\U0001F923\",\"\\U0001F619\"\r\n",
        "print('Good day, student! Please enter the required information.')\r\n",
        "name = input('Name: ')\r\n",
        "program = input('Program: ')\r\n",
        "course = input('Course: ')\r\n",
        "print(f\"{name}, kindly input your grades per term for the course {course}.\")\r\n",
        "p = float(input('Prelim Term: '))\r\n",
        "m = float(input('Midterm: '))\r\n",
        "f = float(input('Finals Term: '))\r\n",
        "SG = (p*0.3)+(m*0.3)+(f*0.4)\r\n",
        "SG2 = \"{:.2f}\".format(SG)      # To print grade with 2 decimal places\r\n",
        "if SG > 70.00:\r\n",
        "    print(f\"Your semestral grade for the course {course} is {SG2} {happy} \")\r\n",
        "elif SG == 70.00:\r\n",
        "    print(f\"Your semestral grade for the course {course} is {SG2} {lol} \")\r\n",
        "elif SG < 70.00:\r\n",
        "    print(f\"Your semestral grade for the course {course} is {SG2} {sad} \")\r\n",
        "else:\r\n",
        "    print(\"It seems you're not taking this calculator seriously. Please try again.\")"
      ],
      "execution_count": null,
      "outputs": [
        {
          "output_type": "stream",
          "text": [
            "Good day, student! Please enter the required information.\n",
            "Name: Jene Reiner N. Borejon\n",
            "Program: BS Computer Engineering\n",
            "Course: Fund. of AI and Data Analytic\n",
            "Jene Reiner N. Borejon, kindly input your grades per term for the course Fund. of AI and Data Analytic.\n",
            "Prelim Term: 98\n",
            "Midterm: 97\n",
            "Finals Term: 98\n",
            "Your semestral grade for the course Fund. of AI and Data Analytic is 97.70 😀 \n"
          ],
          "name": "stdout"
        }
      ]
    }
  ]
}